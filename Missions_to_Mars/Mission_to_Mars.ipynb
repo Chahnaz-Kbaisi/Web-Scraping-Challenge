{
 "cells": [
  {
   "cell_type": "markdown",
   "metadata": {},
   "source": [
    "***\n",
    "## Misson to Mars\n",
    "***\n",
    "A web application that scrapes various websites for data related to the Misson to Mars and displayes the information in a single HTML page. "
   ]
  },
  {
   "cell_type": "code",
   "execution_count": 1,
   "metadata": {},
   "outputs": [],
   "source": [
    "# Importing Dependencies:\n",
    "from bs4 import BeautifulSoup\n",
    "from splinter import Browser\n",
    "from splinter.exceptions import ElementDoesNotExist\n",
    "import pandas as pd"
   ]
  },
  {
   "cell_type": "markdown",
   "metadata": {},
   "source": [
    "### Mac Users"
   ]
  },
  {
   "cell_type": "code",
   "execution_count": 2,
   "metadata": {},
   "outputs": [
    {
     "name": "stdout",
     "output_type": "stream",
     "text": [
      "/usr/local/bin/chromedriver\r\n"
     ]
    }
   ],
   "source": [
    "# https://splinter.readthedocs.io/en/latest/drivers/chrome.html\n",
    "!which chromedriver"
   ]
  },
  {
   "cell_type": "code",
   "execution_count": 3,
   "metadata": {},
   "outputs": [],
   "source": [
    "executable_path = {'executable_path': '/usr/local/bin/chromedriver'}\n",
    "browser = Browser('chrome', **executable_path, headless=False)"
   ]
  },
  {
   "cell_type": "markdown",
   "metadata": {},
   "source": [
    "***\n",
    "## Step 1 - Scraping\n",
    "***\n",
    "### NASA Mars News\n",
    "* Scrape the [NASA Mars News Site](https://mars.nasa.gov/news/) and collect the latest News Title and Paragraph Text. \n",
    "* Assign the text to variables that you can reference later."
   ]
  },
  {
   "cell_type": "code",
   "execution_count": 4,
   "metadata": {},
   "outputs": [],
   "source": [
    "# URL of the page to be scrapped \n",
    "url = 'https://mars.nasa.gov/news/'"
   ]
  },
  {
   "cell_type": "code",
   "execution_count": 5,
   "metadata": {},
   "outputs": [],
   "source": [
    "# Starting the browser request:\n",
    "browser.visit(url)"
   ]
  },
  {
   "cell_type": "code",
   "execution_count": 6,
   "metadata": {},
   "outputs": [],
   "source": [
    "# HTML Object:\n",
    "html = browser.html\n",
    "\n",
    "# Creating BeautifulSoup object from the webpage:\n",
    "soup = BeautifulSoup(html, 'html.parser')"
   ]
  },
  {
   "cell_type": "code",
   "execution_count": 32,
   "metadata": {},
   "outputs": [],
   "source": [
    "# Printing the results to test:\n",
    "#print(soup.prettify())"
   ]
  },
  {
   "cell_type": "code",
   "execution_count": 9,
   "metadata": {},
   "outputs": [
    {
     "name": "stdout",
     "output_type": "stream",
     "text": [
      "The Latest News Title and Paragraph are:\n",
      "Hear Audio From NASA's Perseverance As It Travels Through Deep Space\n",
      "The first to be rigged with microphones, the agency's latest Mars rover picked up the subtle sounds of its own inner workings during interplanetary flight.\n"
     ]
    }
   ],
   "source": [
    "# Collecting the latest news title and paragraph: \n",
    "list_object = soup.find('ul', class_=\"item_list\")\n",
    "news_title = list_object.find('div', class_=\"content_title\").text\n",
    "news_parag = list_object.find('div', class_=\"article_teaser_body\").text\n",
    "print(f\"The Latest News Title and Paragraph are:\")\n",
    "print(news_title)\n",
    "print(news_parag)"
   ]
  },
  {
   "cell_type": "markdown",
   "metadata": {},
   "source": [
    "***\n",
    "## JPL Mars Space Images - Featured Image\n",
    "***\n",
    "* Visit the url for JPL Featured Space Image [here](https://www.jpl.nasa.gov/spaceimages/?search=&category=Mars).\n",
    "\n",
    "* Use splinter to navigate the site and find the image url for the current Featured Mars Image and assign the url string to a variable called `featured_image_url`.\n",
    "\n",
    "* Make sure to find the image url to the full size `.jpg` image.\n",
    "\n",
    "* Make sure to save a complete url string for this image.\n",
    "\n"
   ]
  },
  {
   "cell_type": "code",
   "execution_count": 19,
   "metadata": {},
   "outputs": [],
   "source": [
    "# Visiting url JPL Featured Space Image:\n",
    "image_url = 'https://www.jpl.nasa.gov/spaceimages/?search=&category=Mars'\n",
    "browser.visit(image_url)"
   ]
  },
  {
   "cell_type": "code",
   "execution_count": 21,
   "metadata": {},
   "outputs": [],
   "source": [
    "# HTML Object:\n",
    "html = browser.html\n",
    "# Creating BeautifulSoup object from the webpage:\n",
    "soup_image = BeautifulSoup(html, 'html.parser')"
   ]
  },
  {
   "cell_type": "code",
   "execution_count": 31,
   "metadata": {},
   "outputs": [],
   "source": [
    "# Printing the results to test:\n",
    "# print(soup_image.prettify())"
   ]
  },
  {
   "cell_type": "code",
   "execution_count": 23,
   "metadata": {},
   "outputs": [],
   "source": [
    "# For more informatiom go to:\n",
    "img_botton = browser.find_by_id('full_image')\n",
    "img_botton.click()"
   ]
  },
  {
   "cell_type": "code",
   "execution_count": 24,
   "metadata": {},
   "outputs": [],
   "source": [
    "# For more information go to: \n",
    "img_url = browser.links.find_by_partial_text('more info')\n",
    "img_url.click()"
   ]
  },
  {
   "cell_type": "code",
   "execution_count": 26,
   "metadata": {},
   "outputs": [
    {
     "data": {
      "text/plain": [
       "[<figure class=\"lede\">\n",
       " <a href=\"/spaceimages/images/largesize/PIA16837_hires.jpg\"><img alt=\"The dark hot spot in this false-color image from NASA's Cassini spacecraft is a window deep into Jupiter's atmosphere. All around it are layers of higher clouds, with colors indicating which layer of the atmosphere the clouds are in.\" class=\"main_image\" src=\"/spaceimages/images/largesize/PIA16837_hires.jpg\" title=\"The dark hot spot in this false-color image from NASA's Cassini spacecraft is a window deep into Jupiter's atmosphere. All around it are layers of higher clouds, with colors indicating which layer of the atmosphere the clouds are in.\"/></a>\n",
       " </figure>]"
      ]
     },
     "execution_count": 26,
     "metadata": {},
     "output_type": "execute_result"
    }
   ],
   "source": [
    "# HTML Object:\n",
    "html = browser.html\n",
    "# Creating BeautifulSoup object from the webpage:\n",
    "soup_image = BeautifulSoup(html, 'html.parser')\n",
    "\n",
    "# Printing the results to test:\n",
    "soup_image.find_all('figure')"
   ]
  },
  {
   "cell_type": "code",
   "execution_count": 28,
   "metadata": {},
   "outputs": [
    {
     "name": "stdout",
     "output_type": "stream",
     "text": [
      "<figure class=\"lede\">\n",
      "<a href=\"/spaceimages/images/largesize/PIA16837_hires.jpg\"><img alt=\"The dark hot spot in this false-color image from NASA's Cassini spacecraft is a window deep into Jupiter's atmosphere. All around it are layers of higher clouds, with colors indicating which layer of the atmosphere the clouds are in.\" class=\"main_image\" src=\"/spaceimages/images/largesize/PIA16837_hires.jpg\" title=\"The dark hot spot in this false-color image from NASA's Cassini spacecraft is a window deep into Jupiter's atmosphere. All around it are layers of higher clouds, with colors indicating which layer of the atmosphere the clouds are in.\"/></a>\n",
      "</figure>\n"
     ]
    }
   ],
   "source": [
    "# Collecting the image tags and class:\n",
    "list_image = soup_image.find('figure', class_='lede')\n",
    "print(list_image)"
   ]
  },
  {
   "cell_type": "code",
   "execution_count": 30,
   "metadata": {
    "scrolled": true
   },
   "outputs": [
    {
     "name": "stdout",
     "output_type": "stream",
     "text": [
      "/spaceimages/images/largesize/PIA16837_hires.jpg\n"
     ]
    }
   ],
   "source": [
    "# Scraping the url for the image object:\n",
    "list_image = soup_image.find('figure', class_='lede')\n",
    "image_obj = list_image.find('a')['href']\n",
    "print(image_obj)"
   ]
  },
  {
   "cell_type": "code",
   "execution_count": 33,
   "metadata": {},
   "outputs": [
    {
     "name": "stdout",
     "output_type": "stream",
     "text": [
      "https://www.jpl.nasa.gov/spaceimages/images/largesize/PIA16837_hires.jpg\n"
     ]
    }
   ],
   "source": [
    "# Printing image object:\n",
    "featured_image_url = f'https://www.jpl.nasa.gov{image_obj}'\n",
    "print(featured_image_url)"
   ]
  },
  {
   "cell_type": "code",
   "execution_count": null,
   "metadata": {},
   "outputs": [],
   "source": []
  }
 ],
 "metadata": {
  "kernelspec": {
   "display_name": "Python [conda env:PythonData] *",
   "language": "python",
   "name": "conda-env-PythonData-py"
  },
  "language_info": {
   "codemirror_mode": {
    "name": "ipython",
    "version": 3
   },
   "file_extension": ".py",
   "mimetype": "text/x-python",
   "name": "python",
   "nbconvert_exporter": "python",
   "pygments_lexer": "ipython3",
   "version": "3.6.12"
  }
 },
 "nbformat": 4,
 "nbformat_minor": 4
}
